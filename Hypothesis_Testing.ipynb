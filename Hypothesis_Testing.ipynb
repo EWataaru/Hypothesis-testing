{
  "nbformat": 4,
  "nbformat_minor": 0,
  "metadata": {
    "colab": {
      "name": "Hypothesis Testing.ipynb",
      "provenance": [],
      "collapsed_sections": [],
      "toc_visible": true,
      "authorship_tag": "ABX9TyNzeXLz9KS0mk3RUa8vrSGd",
      "include_colab_link": true
    },
    "kernelspec": {
      "name": "python3",
      "display_name": "Python 3"
    },
    "language_info": {
      "name": "python"
    }
  },
  "cells": [
    {
      "cell_type": "markdown",
      "metadata": {
        "id": "view-in-github",
        "colab_type": "text"
      },
      "source": [
        "<a href=\"https://colab.research.google.com/github/EWataaru/Hypothesis-testing/blob/main/Hypothesis_Testing.ipynb\" target=\"_parent\"><img src=\"https://colab.research.google.com/assets/colab-badge.svg\" alt=\"Open In Colab\"/></a>"
      ]
    },
    {
      "cell_type": "markdown",
      "metadata": {
        "id": "iAOZ_A9Gpkco"
      },
      "source": [
        "#Electric car usage"
      ]
    },
    {
      "cell_type": "markdown",
      "metadata": {
        "id": "PhPh4uAWKRo7"
      },
      "source": [
        "## i. Defining the Question"
      ]
    },
    {
      "cell_type": "markdown",
      "metadata": {
        "id": "qDJJX3MuKXtm"
      },
      "source": [
        "### Specifying the Data Analytic Question"
      ]
    },
    {
      "cell_type": "markdown",
      "metadata": {
        "id": "14OmWNNxRni_"
      },
      "source": [
        "Is there a difference between the number of bluecars taken on weekends and on weekdays \n"
      ]
    },
    {
      "cell_type": "markdown",
      "metadata": {
        "id": "LJBv4_NrKd-z"
      },
      "source": [
        "### Understanding the context "
      ]
    },
    {
      "cell_type": "markdown",
      "metadata": {
        "id": "8d0jmkPLToCZ"
      },
      "source": [
        "We aim to understand electric car usage for the Autolib electric car-sharing service company to investigate a claim that the number of blue cars taken on weekends and on weekdays are the same from the provided Autolib dataset.\n",
        "\n"
      ]
    },
    {
      "cell_type": "markdown",
      "metadata": {
        "id": "ti41F9hrKiAA"
      },
      "source": [
        "### Recording the Experimental Design"
      ]
    },
    {
      "cell_type": "markdown",
      "metadata": {
        "id": "yWML14rYUdIl"
      },
      "source": [
        "We will identify some areas and periods of interest via sampling stating the reason to the choice of method, then perform hypothesis testing with regards to the claim"
      ]
    },
    {
      "cell_type": "markdown",
      "metadata": {
        "id": "2Q19gJ0uMQMc"
      },
      "source": [
        "## ii. Reading the Data"
      ]
    },
    {
      "cell_type": "code",
      "metadata": {
        "id": "XZPBDjVbMWsm"
      },
      "source": [
        "# Loading the Data from the source\n",
        "\n",
        "# Dataset url = https://bit.ly/DSCoreAutolibDataset\n",
        "\n",
        "# Variable Definitions:\n",
        "# Postal code - postal code of the area (in Paris)\n",
        "# date - date of the row aggregation\n",
        "# n_daily_data_points - number of daily data poinst that were available for aggregation, that day\n",
        "# dayOfWeek - identifier of weekday (0: Monday -> 6: Sunday)\n",
        "# day_type - weekday or weekend\n",
        "# BlueCars_taken_sum - Number of bluecars taken that date in that area\n",
        "# BlueCars_returned_sum - Number of bluecars returned that date in that area\n",
        "# Utilib_taken_sum - Number of Utilib taken that date in that area\n",
        "# Utilib_returned_sum - Number of Utilib returned that date in that area\n",
        "# Utilib_14_taken_sum - Number of Utilib 1.4 taken that date in that area\n",
        "# Utilib_14_returned_sum - Number of Utilib 1.4 returned that date in that area\n",
        "# Slots_freed_sum - Number of recharging slots released that date in that area\n",
        "# Slots_taken_sum - Number of rechargign slots taken that date in that area\n"
      ],
      "execution_count": 1,
      "outputs": []
    },
    {
      "cell_type": "code",
      "metadata": {
        "id": "1oMLycqGNg6v"
      },
      "source": [
        "# Importing Libraries\n",
        "\n",
        "import numpy as np\n",
        "\n",
        "import pandas as pd\n",
        "\n",
        "import matplotlib.pyplot as plt\n",
        "\n",
        "import seaborn as sns\n",
        "\n",
        "import scipy.stats as stats\n",
        "\n",
        "%matplotlib inline\n"
      ],
      "execution_count": 2,
      "outputs": []
    },
    {
      "cell_type": "code",
      "metadata": {
        "id": "0VmSihyCN0cd"
      },
      "source": [
        "# Loading dataset\n",
        "\n",
        "ecar = pd.read_csv('https://bit.ly/DSCoreAutolibDataset')\n"
      ],
      "execution_count": 3,
      "outputs": []
    },
    {
      "cell_type": "code",
      "metadata": {
        "colab": {
          "base_uri": "https://localhost:8080/"
        },
        "id": "fWw-d13sOxVU",
        "outputId": "0f009690-9418-4a21-90cb-37ba088ccfb2"
      },
      "source": [
        "# Determining the no. of records in our dataset\n",
        "ecar.shape"
      ],
      "execution_count": 4,
      "outputs": [
        {
          "output_type": "execute_result",
          "data": {
            "text/plain": [
              "(16085, 13)"
            ]
          },
          "metadata": {},
          "execution_count": 4
        }
      ]
    },
    {
      "cell_type": "code",
      "metadata": {
        "colab": {
          "base_uri": "https://localhost:8080/",
          "height": 241
        },
        "id": "n56uAIsGO2CE",
        "outputId": "8c0ccb19-fb7a-4b5c-8735-0cb49a0eb764"
      },
      "source": [
        "# Previewing the top of our dataset\n",
        "ecar.head()"
      ],
      "execution_count": 5,
      "outputs": [
        {
          "output_type": "execute_result",
          "data": {
            "text/html": [
              "<div>\n",
              "<style scoped>\n",
              "    .dataframe tbody tr th:only-of-type {\n",
              "        vertical-align: middle;\n",
              "    }\n",
              "\n",
              "    .dataframe tbody tr th {\n",
              "        vertical-align: top;\n",
              "    }\n",
              "\n",
              "    .dataframe thead th {\n",
              "        text-align: right;\n",
              "    }\n",
              "</style>\n",
              "<table border=\"1\" class=\"dataframe\">\n",
              "  <thead>\n",
              "    <tr style=\"text-align: right;\">\n",
              "      <th></th>\n",
              "      <th>Postal code</th>\n",
              "      <th>date</th>\n",
              "      <th>n_daily_data_points</th>\n",
              "      <th>dayOfWeek</th>\n",
              "      <th>day_type</th>\n",
              "      <th>BlueCars_taken_sum</th>\n",
              "      <th>BlueCars_returned_sum</th>\n",
              "      <th>Utilib_taken_sum</th>\n",
              "      <th>Utilib_returned_sum</th>\n",
              "      <th>Utilib_14_taken_sum</th>\n",
              "      <th>Utilib_14_returned_sum</th>\n",
              "      <th>Slots_freed_sum</th>\n",
              "      <th>Slots_taken_sum</th>\n",
              "    </tr>\n",
              "  </thead>\n",
              "  <tbody>\n",
              "    <tr>\n",
              "      <th>0</th>\n",
              "      <td>75001</td>\n",
              "      <td>1/1/2018</td>\n",
              "      <td>1440</td>\n",
              "      <td>0</td>\n",
              "      <td>weekday</td>\n",
              "      <td>110</td>\n",
              "      <td>103</td>\n",
              "      <td>3</td>\n",
              "      <td>2</td>\n",
              "      <td>10</td>\n",
              "      <td>9</td>\n",
              "      <td>22</td>\n",
              "      <td>20</td>\n",
              "    </tr>\n",
              "    <tr>\n",
              "      <th>1</th>\n",
              "      <td>75001</td>\n",
              "      <td>1/2/2018</td>\n",
              "      <td>1438</td>\n",
              "      <td>1</td>\n",
              "      <td>weekday</td>\n",
              "      <td>98</td>\n",
              "      <td>94</td>\n",
              "      <td>1</td>\n",
              "      <td>1</td>\n",
              "      <td>8</td>\n",
              "      <td>8</td>\n",
              "      <td>23</td>\n",
              "      <td>22</td>\n",
              "    </tr>\n",
              "    <tr>\n",
              "      <th>2</th>\n",
              "      <td>75001</td>\n",
              "      <td>1/3/2018</td>\n",
              "      <td>1439</td>\n",
              "      <td>2</td>\n",
              "      <td>weekday</td>\n",
              "      <td>138</td>\n",
              "      <td>139</td>\n",
              "      <td>0</td>\n",
              "      <td>0</td>\n",
              "      <td>2</td>\n",
              "      <td>2</td>\n",
              "      <td>27</td>\n",
              "      <td>27</td>\n",
              "    </tr>\n",
              "    <tr>\n",
              "      <th>3</th>\n",
              "      <td>75001</td>\n",
              "      <td>1/4/2018</td>\n",
              "      <td>1320</td>\n",
              "      <td>3</td>\n",
              "      <td>weekday</td>\n",
              "      <td>104</td>\n",
              "      <td>104</td>\n",
              "      <td>2</td>\n",
              "      <td>2</td>\n",
              "      <td>9</td>\n",
              "      <td>8</td>\n",
              "      <td>25</td>\n",
              "      <td>21</td>\n",
              "    </tr>\n",
              "    <tr>\n",
              "      <th>4</th>\n",
              "      <td>75001</td>\n",
              "      <td>1/5/2018</td>\n",
              "      <td>1440</td>\n",
              "      <td>4</td>\n",
              "      <td>weekday</td>\n",
              "      <td>114</td>\n",
              "      <td>117</td>\n",
              "      <td>3</td>\n",
              "      <td>3</td>\n",
              "      <td>6</td>\n",
              "      <td>6</td>\n",
              "      <td>18</td>\n",
              "      <td>20</td>\n",
              "    </tr>\n",
              "  </tbody>\n",
              "</table>\n",
              "</div>"
            ],
            "text/plain": [
              "   Postal code      date  ...  Slots_freed_sum  Slots_taken_sum\n",
              "0        75001  1/1/2018  ...               22               20\n",
              "1        75001  1/2/2018  ...               23               22\n",
              "2        75001  1/3/2018  ...               27               27\n",
              "3        75001  1/4/2018  ...               25               21\n",
              "4        75001  1/5/2018  ...               18               20\n",
              "\n",
              "[5 rows x 13 columns]"
            ]
          },
          "metadata": {},
          "execution_count": 5
        }
      ]
    },
    {
      "cell_type": "code",
      "metadata": {
        "colab": {
          "base_uri": "https://localhost:8080/",
          "height": 241
        },
        "id": "D_H0N4RtO9C5",
        "outputId": "4dd28b09-8da4-4782-ee23-d5671741e070"
      },
      "source": [
        "# Previewing the bottom of our dataset\n",
        "ecar.tail()"
      ],
      "execution_count": 6,
      "outputs": [
        {
          "output_type": "execute_result",
          "data": {
            "text/html": [
              "<div>\n",
              "<style scoped>\n",
              "    .dataframe tbody tr th:only-of-type {\n",
              "        vertical-align: middle;\n",
              "    }\n",
              "\n",
              "    .dataframe tbody tr th {\n",
              "        vertical-align: top;\n",
              "    }\n",
              "\n",
              "    .dataframe thead th {\n",
              "        text-align: right;\n",
              "    }\n",
              "</style>\n",
              "<table border=\"1\" class=\"dataframe\">\n",
              "  <thead>\n",
              "    <tr style=\"text-align: right;\">\n",
              "      <th></th>\n",
              "      <th>Postal code</th>\n",
              "      <th>date</th>\n",
              "      <th>n_daily_data_points</th>\n",
              "      <th>dayOfWeek</th>\n",
              "      <th>day_type</th>\n",
              "      <th>BlueCars_taken_sum</th>\n",
              "      <th>BlueCars_returned_sum</th>\n",
              "      <th>Utilib_taken_sum</th>\n",
              "      <th>Utilib_returned_sum</th>\n",
              "      <th>Utilib_14_taken_sum</th>\n",
              "      <th>Utilib_14_returned_sum</th>\n",
              "      <th>Slots_freed_sum</th>\n",
              "      <th>Slots_taken_sum</th>\n",
              "    </tr>\n",
              "  </thead>\n",
              "  <tbody>\n",
              "    <tr>\n",
              "      <th>16080</th>\n",
              "      <td>95880</td>\n",
              "      <td>6/15/2018</td>\n",
              "      <td>1440</td>\n",
              "      <td>4</td>\n",
              "      <td>weekday</td>\n",
              "      <td>15</td>\n",
              "      <td>10</td>\n",
              "      <td>0</td>\n",
              "      <td>0</td>\n",
              "      <td>2</td>\n",
              "      <td>3</td>\n",
              "      <td>0</td>\n",
              "      <td>0</td>\n",
              "    </tr>\n",
              "    <tr>\n",
              "      <th>16081</th>\n",
              "      <td>95880</td>\n",
              "      <td>6/16/2018</td>\n",
              "      <td>1440</td>\n",
              "      <td>5</td>\n",
              "      <td>weekend</td>\n",
              "      <td>19</td>\n",
              "      <td>19</td>\n",
              "      <td>0</td>\n",
              "      <td>0</td>\n",
              "      <td>2</td>\n",
              "      <td>1</td>\n",
              "      <td>0</td>\n",
              "      <td>0</td>\n",
              "    </tr>\n",
              "    <tr>\n",
              "      <th>16082</th>\n",
              "      <td>95880</td>\n",
              "      <td>6/17/2018</td>\n",
              "      <td>1440</td>\n",
              "      <td>6</td>\n",
              "      <td>weekend</td>\n",
              "      <td>33</td>\n",
              "      <td>35</td>\n",
              "      <td>1</td>\n",
              "      <td>1</td>\n",
              "      <td>0</td>\n",
              "      <td>0</td>\n",
              "      <td>0</td>\n",
              "      <td>0</td>\n",
              "    </tr>\n",
              "    <tr>\n",
              "      <th>16083</th>\n",
              "      <td>95880</td>\n",
              "      <td>6/18/2018</td>\n",
              "      <td>1440</td>\n",
              "      <td>0</td>\n",
              "      <td>weekday</td>\n",
              "      <td>11</td>\n",
              "      <td>14</td>\n",
              "      <td>3</td>\n",
              "      <td>5</td>\n",
              "      <td>2</td>\n",
              "      <td>2</td>\n",
              "      <td>0</td>\n",
              "      <td>0</td>\n",
              "    </tr>\n",
              "    <tr>\n",
              "      <th>16084</th>\n",
              "      <td>95880</td>\n",
              "      <td>6/19/2018</td>\n",
              "      <td>1370</td>\n",
              "      <td>1</td>\n",
              "      <td>weekday</td>\n",
              "      <td>2</td>\n",
              "      <td>2</td>\n",
              "      <td>2</td>\n",
              "      <td>1</td>\n",
              "      <td>0</td>\n",
              "      <td>0</td>\n",
              "      <td>0</td>\n",
              "      <td>0</td>\n",
              "    </tr>\n",
              "  </tbody>\n",
              "</table>\n",
              "</div>"
            ],
            "text/plain": [
              "       Postal code       date  ...  Slots_freed_sum  Slots_taken_sum\n",
              "16080        95880  6/15/2018  ...                0                0\n",
              "16081        95880  6/16/2018  ...                0                0\n",
              "16082        95880  6/17/2018  ...                0                0\n",
              "16083        95880  6/18/2018  ...                0                0\n",
              "16084        95880  6/19/2018  ...                0                0\n",
              "\n",
              "[5 rows x 13 columns]"
            ]
          },
          "metadata": {},
          "execution_count": 6
        }
      ]
    },
    {
      "cell_type": "code",
      "metadata": {
        "colab": {
          "base_uri": "https://localhost:8080/"
        },
        "id": "En_h0p-aPCNB",
        "outputId": "e44cea60-0bb4-47ba-b07e-2b6da7783501"
      },
      "source": [
        "# Checking whether each column has an appropriate datatype\n",
        "ecar.info()"
      ],
      "execution_count": 7,
      "outputs": [
        {
          "output_type": "stream",
          "name": "stdout",
          "text": [
            "<class 'pandas.core.frame.DataFrame'>\n",
            "RangeIndex: 16085 entries, 0 to 16084\n",
            "Data columns (total 13 columns):\n",
            " #   Column                  Non-Null Count  Dtype \n",
            "---  ------                  --------------  ----- \n",
            " 0   Postal code             16085 non-null  int64 \n",
            " 1   date                    16085 non-null  object\n",
            " 2   n_daily_data_points     16085 non-null  int64 \n",
            " 3   dayOfWeek               16085 non-null  int64 \n",
            " 4   day_type                16085 non-null  object\n",
            " 5   BlueCars_taken_sum      16085 non-null  int64 \n",
            " 6   BlueCars_returned_sum   16085 non-null  int64 \n",
            " 7   Utilib_taken_sum        16085 non-null  int64 \n",
            " 8   Utilib_returned_sum     16085 non-null  int64 \n",
            " 9   Utilib_14_taken_sum     16085 non-null  int64 \n",
            " 10  Utilib_14_returned_sum  16085 non-null  int64 \n",
            " 11  Slots_freed_sum         16085 non-null  int64 \n",
            " 12  Slots_taken_sum         16085 non-null  int64 \n",
            "dtypes: int64(11), object(2)\n",
            "memory usage: 1.6+ MB\n"
          ]
        }
      ]
    },
    {
      "cell_type": "markdown",
      "metadata": {
        "id": "ECjOWE-7PJlP"
      },
      "source": [
        "## iii. Tidying the Dataset"
      ]
    },
    {
      "cell_type": "markdown",
      "metadata": {
        "id": "8sHTbqiXPSLQ"
      },
      "source": [
        "### Identifying and dealing with missing data"
      ]
    },
    {
      "cell_type": "code",
      "metadata": {
        "colab": {
          "base_uri": "https://localhost:8080/"
        },
        "id": "FNVWbwzxPVhB",
        "outputId": "733e203c-e2b8-4529-9a85-4d9d495e6760"
      },
      "source": [
        "# Checking for missing values in the dataset\n",
        "ecar.isnull().sum()"
      ],
      "execution_count": 8,
      "outputs": [
        {
          "output_type": "execute_result",
          "data": {
            "text/plain": [
              "Postal code               0\n",
              "date                      0\n",
              "n_daily_data_points       0\n",
              "dayOfWeek                 0\n",
              "day_type                  0\n",
              "BlueCars_taken_sum        0\n",
              "BlueCars_returned_sum     0\n",
              "Utilib_taken_sum          0\n",
              "Utilib_returned_sum       0\n",
              "Utilib_14_taken_sum       0\n",
              "Utilib_14_returned_sum    0\n",
              "Slots_freed_sum           0\n",
              "Slots_taken_sum           0\n",
              "dtype: int64"
            ]
          },
          "metadata": {},
          "execution_count": 8
        }
      ]
    },
    {
      "cell_type": "markdown",
      "metadata": {
        "id": "Ah6jILS4PqNc"
      },
      "source": [
        "### Checking for and dealing with outliers"
      ]
    },
    {
      "cell_type": "code",
      "metadata": {
        "colab": {
          "base_uri": "https://localhost:8080/",
          "height": 286
        },
        "id": "jCovYyOnPvG0",
        "outputId": "c01c0ef3-ada6-4cfc-92d6-ca3835e9c981"
      },
      "source": [
        "ecar.boxplot()"
      ],
      "execution_count": 9,
      "outputs": [
        {
          "output_type": "execute_result",
          "data": {
            "text/plain": [
              "<matplotlib.axes._subplots.AxesSubplot at 0x7fef7012a550>"
            ]
          },
          "metadata": {},
          "execution_count": 9
        },
        {
          "output_type": "display_data",
          "data": {
            "image/png": "[encoded data removed]",
            "text/plain": [
              "<Figure size 432x288 with 1 Axes>"
            ]
          },
          "metadata": {
            "needs_background": "light"
          }
        }
      ]
    },
    {
      "cell_type": "code",
      "metadata": {
        "colab": {
          "base_uri": "https://localhost:8080/",
          "height": 351
        },
        "id": "JtWNTtf8P6ub",
        "outputId": "bf1d8ce3-792e-40d6-9f75-819d2efee3f4"
      },
      "source": [
        "sns.boxplot(ecar.n_daily_data_points)\n"
      ],
      "execution_count": 10,
      "outputs": [
        {
          "output_type": "stream",
          "name": "stderr",
          "text": [
            "/usr/local/lib/python3.7/dist-packages/seaborn/_decorators.py:43: FutureWarning: Pass the following variable as a keyword arg: x. From version 0.12, the only valid positional argument will be `data`, and passing other arguments without an explicit keyword will result in an error or misinterpretation.\n",
            "  FutureWarning\n"
          ]
        },
        {
          "output_type": "execute_result",
          "data": {
            "text/plain": [
              "<matplotlib.axes._subplots.AxesSubplot at 0x7fef6fab52d0>"
            ]
          },
          "metadata": {},
          "execution_count": 10
        },
        {
          "output_type": "display_data",
          "data": {
            "image/png": "[encoded data removed]",
            "text/plain": [
              "<Figure size 432x288 with 1 Axes>"
            ]
          },
          "metadata": {
            "needs_background": "light"
          }
        }
      ]
    },
    {
      "cell_type": "code",
      "metadata": {
        "colab": {
          "base_uri": "https://localhost:8080/"
        },
        "id": "1vZc53rWQnCZ",
        "outputId": "cc6698c6-a133-4729-fad7-71142527a2f8"
      },
      "source": [
        "# DEALING WITH THE OUTLIERS\n",
        "\n",
        "# IQR Score \n",
        "# Anything not in the range of \n",
        "# (Q1 - 1.5 IQR) and (Q3 + 1.5 IQR) is an outlier\n",
        "\n",
        "\n",
        "# Indicating the 1st and 3rd quantiles and the IQR\n",
        "\n",
        "Q1 = ecar.quantile(0.25)\n",
        "Q3 = ecar.quantile(0.75)\n",
        "IQR = Q3 - Q1\n",
        "\n",
        "# Removing outliers based on the IQR range and stores the result in the data frame 'ecar1'\n",
        "\n",
        "ecar1 = ecar[~((ecar < (Q1 - 1.5 * IQR)) | (ecar > (Q3 + 1.5 * IQR))).any(axis=1)]\n",
        "\n",
        "# Dataset after removing the outliers\n",
        "\n",
        "print(ecar1.shape)\n",
        "\n",
        "# Dataset with outliers\n",
        "\n",
        "print(ecar.shape)"
      ],
      "execution_count": 11,
      "outputs": [
        {
          "output_type": "stream",
          "name": "stdout",
          "text": [
            "(9783, 13)\n",
            "(16085, 13)\n"
          ]
        }
      ]
    },
    {
      "cell_type": "code",
      "metadata": {
        "colab": {
          "base_uri": "https://localhost:8080/"
        },
        "id": "DcRc-7ieWc_f",
        "outputId": "66beffb8-5a46-4c78-8d26-9527192f6d48"
      },
      "source": [
        "ecar1.info()"
      ],
      "execution_count": 12,
      "outputs": [
        {
          "output_type": "stream",
          "name": "stdout",
          "text": [
            "<class 'pandas.core.frame.DataFrame'>\n",
            "Int64Index: 9783 entries, 3899 to 16083\n",
            "Data columns (total 13 columns):\n",
            " #   Column                  Non-Null Count  Dtype \n",
            "---  ------                  --------------  ----- \n",
            " 0   Postal code             9783 non-null   int64 \n",
            " 1   date                    9783 non-null   object\n",
            " 2   n_daily_data_points     9783 non-null   int64 \n",
            " 3   dayOfWeek               9783 non-null   int64 \n",
            " 4   day_type                9783 non-null   object\n",
            " 5   BlueCars_taken_sum      9783 non-null   int64 \n",
            " 6   BlueCars_returned_sum   9783 non-null   int64 \n",
            " 7   Utilib_taken_sum        9783 non-null   int64 \n",
            " 8   Utilib_returned_sum     9783 non-null   int64 \n",
            " 9   Utilib_14_taken_sum     9783 non-null   int64 \n",
            " 10  Utilib_14_returned_sum  9783 non-null   int64 \n",
            " 11  Slots_freed_sum         9783 non-null   int64 \n",
            " 12  Slots_taken_sum         9783 non-null   int64 \n",
            "dtypes: int64(11), object(2)\n",
            "memory usage: 1.0+ MB\n"
          ]
        }
      ]
    },
    {
      "cell_type": "code",
      "metadata": {
        "colab": {
          "base_uri": "https://localhost:8080/"
        },
        "id": "aUJ-nGYHnzXq",
        "outputId": "042b8c46-37ef-4e50-f592-fb25d267bac4"
      },
      "source": [
        "# Rename columns to have standard column names\n",
        "col_names = ecar1.columns.tolist()\n",
        "for col in range(len(col_names)):\n",
        "  col_names[col] = col_names[col].lower().replace(\" \", \"_\")\n",
        "\n",
        "ecar1.columns = col_names\n",
        "ecar1.columns"
      ],
      "execution_count": 13,
      "outputs": [
        {
          "output_type": "execute_result",
          "data": {
            "text/plain": [
              "Index(['postal_code', 'date', 'n_daily_data_points', 'dayofweek', 'day_type',\n",
              "       'bluecars_taken_sum', 'bluecars_returned_sum', 'utilib_taken_sum',\n",
              "       'utilib_returned_sum', 'utilib_14_taken_sum', 'utilib_14_returned_sum',\n",
              "       'slots_freed_sum', 'slots_taken_sum'],\n",
              "      dtype='object')"
            ]
          },
          "metadata": {},
          "execution_count": 13
        }
      ]
    },
    {
      "cell_type": "markdown",
      "metadata": {
        "id": "ubcLb8GZovbp"
      },
      "source": [
        "### Checking for Anomalies"
      ]
    },
    {
      "cell_type": "code",
      "metadata": {
        "colab": {
          "base_uri": "https://localhost:8080/"
        },
        "id": "AEYCFxnQowJk",
        "outputId": "75333d34-5ca5-4904-9975-c603486a6484"
      },
      "source": [
        "print(ecar1['postal_code'].value_counts())#relevant\n",
        "print(ecar1['date'].value_counts())\n",
        "print(ecar1['n_daily_data_points'].value_counts())\n",
        "print(ecar1['dayofweek'].value_counts())#relevant\n",
        "print(ecar1['day_type'].value_counts())#relevant\n",
        "print(ecar1['bluecars_taken_sum'].value_counts())#relevant\n",
        "print(ecar1['bluecars_returned_sum'].value_counts())#relevant\n",
        "print(ecar1['utilib_taken_sum'].value_counts())\n",
        "print(ecar1['utilib_returned_sum'].value_counts())\n",
        "print(ecar1['utilib_14_taken_sum'].value_counts())\n",
        "print(ecar1['utilib_14_returned_sum'].value_counts())\n",
        "print(ecar1['slots_freed_sum'].value_counts())\n",
        "print(ecar1['slots_taken_sum'].value_counts())\n"
      ],
      "execution_count": 14,
      "outputs": [
        {
          "output_type": "stream",
          "name": "stdout",
          "text": [
            "94130    130\n",
            "92160    130\n",
            "91400    130\n",
            "94450    130\n",
            "94410    130\n",
            "        ... \n",
            "93260    101\n",
            "92800     82\n",
            "93390     72\n",
            "92130     65\n",
            "92100      4\n",
            "Name: postal_code, Length: 79, dtype: int64\n",
            "4/27/2018    78\n",
            "5/20/2018    78\n",
            "5/3/2018     78\n",
            "6/4/2018     78\n",
            "1/2/2018     78\n",
            "             ..\n",
            "3/11/2018    72\n",
            "6/15/2018    72\n",
            "4/21/2018    72\n",
            "3/10/2018    72\n",
            "4/14/2018    71\n",
            "Name: date, Length: 130, dtype: int64\n",
            "1440    7364\n",
            "1439    1888\n",
            "1438     531\n",
            "Name: n_daily_data_points, dtype: int64\n",
            "6    1564\n",
            "0    1525\n",
            "1    1520\n",
            "5    1399\n",
            "2    1359\n",
            "4    1283\n",
            "3    1133\n",
            "Name: dayofweek, dtype: int64\n",
            "weekday    6820\n",
            "weekend    2963\n",
            "Name: day_type, dtype: int64\n",
            "12     190\n",
            "9      189\n",
            "14     189\n",
            "11     189\n",
            "13     180\n",
            "      ... \n",
            "267      1\n",
            "275      1\n",
            "291      1\n",
            "216      1\n",
            "287      1\n",
            "Name: bluecars_taken_sum, Length: 275, dtype: int64\n",
            "13     198\n",
            "17     190\n",
            "12     189\n",
            "11     182\n",
            "14     176\n",
            "      ... \n",
            "249      1\n",
            "209      1\n",
            "193      1\n",
            "198      1\n",
            "295      1\n",
            "Name: bluecars_returned_sum, Length: 269, dtype: int64\n",
            "0     4044\n",
            "1     2236\n",
            "2     1334\n",
            "3      826\n",
            "4      501\n",
            "5      334\n",
            "6      211\n",
            "7      129\n",
            "8       97\n",
            "9       51\n",
            "10      20\n",
            "Name: utilib_taken_sum, dtype: int64\n",
            "0     3994\n",
            "1     2291\n",
            "2     1363\n",
            "3      781\n",
            "4      541\n",
            "5      316\n",
            "6      202\n",
            "7      148\n",
            "8       79\n",
            "9       45\n",
            "10      23\n",
            "Name: utilib_returned_sum, dtype: int64\n",
            "0     2145\n",
            "1     1654\n",
            "2     1296\n",
            "3      989\n",
            "4      816\n",
            "5      610\n",
            "6      513\n",
            "7      378\n",
            "8      287\n",
            "9      224\n",
            "10     203\n",
            "11     149\n",
            "12     137\n",
            "13      90\n",
            "14      59\n",
            "15      56\n",
            "17      47\n",
            "16      44\n",
            "18      25\n",
            "19      24\n",
            "20      15\n",
            "21      12\n",
            "22       6\n",
            "23       4\n",
            "Name: utilib_14_taken_sum, dtype: int64\n",
            "0     2099\n",
            "1     1690\n",
            "2     1311\n",
            "3     1053\n",
            "4      755\n",
            "5      631\n",
            "6      463\n",
            "7      370\n",
            "8      295\n",
            "9      259\n",
            "10     192\n",
            "11     158\n",
            "12     110\n",
            "13      90\n",
            "14      72\n",
            "15      63\n",
            "16      54\n",
            "17      32\n",
            "19      27\n",
            "18      22\n",
            "21      12\n",
            "20      11\n",
            "22       9\n",
            "23       5\n",
            "Name: utilib_14_returned_sum, dtype: int64\n",
            "0     7976\n",
            "1      367\n",
            "2      349\n",
            "3      273\n",
            "4      241\n",
            "5      181\n",
            "6      128\n",
            "7       88\n",
            "8       63\n",
            "9       49\n",
            "11      25\n",
            "10      25\n",
            "12      18\n",
            "Name: slots_freed_sum, dtype: int64\n",
            "0     7984\n",
            "1      358\n",
            "2      357\n",
            "3      276\n",
            "4      232\n",
            "5      174\n",
            "6      125\n",
            "7      101\n",
            "8       66\n",
            "9       36\n",
            "10      35\n",
            "11      26\n",
            "12      13\n",
            "Name: slots_taken_sum, dtype: int64\n"
          ]
        }
      ]
    },
    {
      "cell_type": "code",
      "metadata": {
        "colab": {
          "base_uri": "https://localhost:8080/"
        },
        "id": "Q55_Y0o3rwgC",
        "outputId": "d0a658f1-2459-4f28-d2fa-d4747864e0b7"
      },
      "source": [
        "# Dropping the irrelevant columns i.e. date , n_daily_data_points , dayofweek , utilib_taken_sum , utilib_returned_sum , utilib_14_taken_sum , utilib_14_returned_sum , slots_freed_sum , slots_taken_sum\n",
        "# Those values were dropped since axis was set equal to 1 and \n",
        "# Changes are made in the ecarl1 data frame since inplace was True.\n",
        "ecar1.drop([\"date\", \"n_daily_data_points\", \"utilib_taken_sum\",\"utilib_returned_sum\", \"utilib_14_taken_sum\",\"utilib_14_returned_sum\", \"slots_freed_sum\",\"slots_taken_sum\"], axis = 1, inplace = True) \n"
      ],
      "execution_count": 15,
      "outputs": [
        {
          "output_type": "stream",
          "name": "stderr",
          "text": [
            "/usr/local/lib/python3.7/dist-packages/pandas/core/frame.py:4174: SettingWithCopyWarning: \n",
            "A value is trying to be set on a copy of a slice from a DataFrame\n",
            "\n",
            "See the caveats in the documentation: https://pandas.pydata.org/pandas-docs/stable/user_guide/indexing.html#returning-a-view-versus-a-copy\n",
            "  errors=errors,\n"
          ]
        }
      ]
    },
    {
      "cell_type": "code",
      "metadata": {
        "colab": {
          "base_uri": "https://localhost:8080/",
          "height": 204
        },
        "id": "aIuUl7AauCzI",
        "outputId": "d8f0a133-a50b-4a95-91e9-45f8f40496d3"
      },
      "source": [
        "ecar1.head()"
      ],
      "execution_count": 16,
      "outputs": [
        {
          "output_type": "execute_result",
          "data": {
            "text/html": [
              "<div>\n",
              "<style scoped>\n",
              "    .dataframe tbody tr th:only-of-type {\n",
              "        vertical-align: middle;\n",
              "    }\n",
              "\n",
              "    .dataframe tbody tr th {\n",
              "        vertical-align: top;\n",
              "    }\n",
              "\n",
              "    .dataframe thead th {\n",
              "        text-align: right;\n",
              "    }\n",
              "</style>\n",
              "<table border=\"1\" class=\"dataframe\">\n",
              "  <thead>\n",
              "    <tr style=\"text-align: right;\">\n",
              "      <th></th>\n",
              "      <th>postal_code</th>\n",
              "      <th>dayofweek</th>\n",
              "      <th>day_type</th>\n",
              "      <th>bluecars_taken_sum</th>\n",
              "      <th>bluecars_returned_sum</th>\n",
              "    </tr>\n",
              "  </thead>\n",
              "  <tbody>\n",
              "    <tr>\n",
              "      <th>3899</th>\n",
              "      <td>91330</td>\n",
              "      <td>0</td>\n",
              "      <td>weekday</td>\n",
              "      <td>19</td>\n",
              "      <td>9</td>\n",
              "    </tr>\n",
              "    <tr>\n",
              "      <th>3900</th>\n",
              "      <td>91330</td>\n",
              "      <td>1</td>\n",
              "      <td>weekday</td>\n",
              "      <td>10</td>\n",
              "      <td>10</td>\n",
              "    </tr>\n",
              "    <tr>\n",
              "      <th>3901</th>\n",
              "      <td>91330</td>\n",
              "      <td>2</td>\n",
              "      <td>weekday</td>\n",
              "      <td>11</td>\n",
              "      <td>13</td>\n",
              "    </tr>\n",
              "    <tr>\n",
              "      <th>3903</th>\n",
              "      <td>91330</td>\n",
              "      <td>4</td>\n",
              "      <td>weekday</td>\n",
              "      <td>10</td>\n",
              "      <td>6</td>\n",
              "    </tr>\n",
              "    <tr>\n",
              "      <th>3905</th>\n",
              "      <td>91330</td>\n",
              "      <td>6</td>\n",
              "      <td>weekend</td>\n",
              "      <td>28</td>\n",
              "      <td>17</td>\n",
              "    </tr>\n",
              "  </tbody>\n",
              "</table>\n",
              "</div>"
            ],
            "text/plain": [
              "      postal_code  dayofweek  ... bluecars_taken_sum  bluecars_returned_sum\n",
              "3899        91330          0  ...                 19                      9\n",
              "3900        91330          1  ...                 10                     10\n",
              "3901        91330          2  ...                 11                     13\n",
              "3903        91330          4  ...                 10                      6\n",
              "3905        91330          6  ...                 28                     17\n",
              "\n",
              "[5 rows x 5 columns]"
            ]
          },
          "metadata": {},
          "execution_count": 16
        }
      ]
    },
    {
      "cell_type": "markdown",
      "metadata": {
        "id": "Ys8G8ooG0d6F"
      },
      "source": [
        "## iv. Exploratory Analysis"
      ]
    },
    {
      "cell_type": "markdown",
      "metadata": {
        "id": "lQbZB4MGybbu"
      },
      "source": [
        "###Sampling"
      ]
    },
    {
      "cell_type": "code",
      "metadata": {
        "colab": {
          "base_uri": "https://localhost:8080/"
        },
        "id": "jzHG5yPfycDc",
        "outputId": "573023c9-3338-4071-f604-eb00e2de20f7"
      },
      "source": [
        "ecar1['day_type'].value_counts()"
      ],
      "execution_count": 17,
      "outputs": [
        {
          "output_type": "execute_result",
          "data": {
            "text/plain": [
              "weekday    6820\n",
              "weekend    2963\n",
              "Name: day_type, dtype: int64"
            ]
          },
          "metadata": {},
          "execution_count": 17
        }
      ]
    },
    {
      "cell_type": "code",
      "metadata": {
        "colab": {
          "base_uri": "https://localhost:8080/"
        },
        "id": "fzgkKn6TyyIZ",
        "outputId": "1c9d51b7-07c7-46da-8587-aa4ec6a56853"
      },
      "source": [
        "# Stratified sample\n",
        "ecar1_strat = ecar1.groupby('day_type', group_keys=False).apply(lambda grouped_subset : grouped_subset.sample(frac=0.05))\n",
        "\n",
        "# proportion of the stratified sample\n",
        "print(ecar1_strat['day_type'].value_counts())\n",
        "\n",
        "# Check the stratified output\n",
        "print(ecar1_strat)"
      ],
      "execution_count": 18,
      "outputs": [
        {
          "output_type": "stream",
          "name": "stdout",
          "text": [
            "weekday    341\n",
            "weekend    148\n",
            "Name: day_type, dtype: int64\n",
            "       postal_code  dayofweek  ... bluecars_taken_sum  bluecars_returned_sum\n",
            "5872         92190          1  ...                 49                     53\n",
            "13425        94110          0  ...                 30                     37\n",
            "13671        94130          0  ...                 28                     31\n",
            "5790         92190          0  ...                 40                     57\n",
            "7094         92270          3  ...                 25                     25\n",
            "...            ...        ...  ...                ...                    ...\n",
            "14946        94410          6  ...                 37                     33\n",
            "4217         91400          6  ...                  9                      9\n",
            "10927        93230          6  ...                 17                     13\n",
            "14844        94410          6  ...                 28                     34\n",
            "6376         92220          6  ...                 76                     80\n",
            "\n",
            "[489 rows x 5 columns]\n"
          ]
        }
      ]
    },
    {
      "cell_type": "markdown",
      "metadata": {
        "id": "7oPH3ld71T9B"
      },
      "source": [
        "###Univariate analysis"
      ]
    },
    {
      "cell_type": "code",
      "metadata": {
        "colab": {
          "base_uri": "https://localhost:8080/",
          "height": 297
        },
        "id": "P5tYXwXT6k6J",
        "outputId": "9f00b871-c725-4826-cbc6-64fe5ae93f28"
      },
      "source": [
        "# Showing the descriptive statistics for the numerical measures in the whole dataset\n",
        "#\n",
        "ecar1.describe()"
      ],
      "execution_count": 19,
      "outputs": [
        {
          "output_type": "execute_result",
          "data": {
            "text/html": [
              "<div>\n",
              "<style scoped>\n",
              "    .dataframe tbody tr th:only-of-type {\n",
              "        vertical-align: middle;\n",
              "    }\n",
              "\n",
              "    .dataframe tbody tr th {\n",
              "        vertical-align: top;\n",
              "    }\n",
              "\n",
              "    .dataframe thead th {\n",
              "        text-align: right;\n",
              "    }\n",
              "</style>\n",
              "<table border=\"1\" class=\"dataframe\">\n",
              "  <thead>\n",
              "    <tr style=\"text-align: right;\">\n",
              "      <th></th>\n",
              "      <th>postal_code</th>\n",
              "      <th>dayofweek</th>\n",
              "      <th>bluecars_taken_sum</th>\n",
              "      <th>bluecars_returned_sum</th>\n",
              "    </tr>\n",
              "  </thead>\n",
              "  <tbody>\n",
              "    <tr>\n",
              "      <th>count</th>\n",
              "      <td>9783.000000</td>\n",
              "      <td>9783.000000</td>\n",
              "      <td>9783.000000</td>\n",
              "      <td>9783.000000</td>\n",
              "    </tr>\n",
              "    <tr>\n",
              "      <th>mean</th>\n",
              "      <td>93104.755188</td>\n",
              "      <td>2.979454</td>\n",
              "      <td>49.242870</td>\n",
              "      <td>49.222324</td>\n",
              "    </tr>\n",
              "    <tr>\n",
              "      <th>std</th>\n",
              "      <td>1012.235885</td>\n",
              "      <td>2.074932</td>\n",
              "      <td>46.303795</td>\n",
              "      <td>46.223838</td>\n",
              "    </tr>\n",
              "    <tr>\n",
              "      <th>min</th>\n",
              "      <td>91330.000000</td>\n",
              "      <td>0.000000</td>\n",
              "      <td>0.000000</td>\n",
              "      <td>0.000000</td>\n",
              "    </tr>\n",
              "    <tr>\n",
              "      <th>25%</th>\n",
              "      <td>92270.000000</td>\n",
              "      <td>1.000000</td>\n",
              "      <td>17.000000</td>\n",
              "      <td>17.000000</td>\n",
              "    </tr>\n",
              "    <tr>\n",
              "      <th>50%</th>\n",
              "      <td>93110.000000</td>\n",
              "      <td>3.000000</td>\n",
              "      <td>34.000000</td>\n",
              "      <td>34.000000</td>\n",
              "    </tr>\n",
              "    <tr>\n",
              "      <th>75%</th>\n",
              "      <td>94100.000000</td>\n",
              "      <td>5.000000</td>\n",
              "      <td>67.000000</td>\n",
              "      <td>67.000000</td>\n",
              "    </tr>\n",
              "    <tr>\n",
              "      <th>max</th>\n",
              "      <td>95880.000000</td>\n",
              "      <td>6.000000</td>\n",
              "      <td>293.000000</td>\n",
              "      <td>301.000000</td>\n",
              "    </tr>\n",
              "  </tbody>\n",
              "</table>\n",
              "</div>"
            ],
            "text/plain": [
              "        postal_code    dayofweek  bluecars_taken_sum  bluecars_returned_sum\n",
              "count   9783.000000  9783.000000         9783.000000            9783.000000\n",
              "mean   93104.755188     2.979454           49.242870              49.222324\n",
              "std     1012.235885     2.074932           46.303795              46.223838\n",
              "min    91330.000000     0.000000            0.000000               0.000000\n",
              "25%    92270.000000     1.000000           17.000000              17.000000\n",
              "50%    93110.000000     3.000000           34.000000              34.000000\n",
              "75%    94100.000000     5.000000           67.000000              67.000000\n",
              "max    95880.000000     6.000000          293.000000             301.000000"
            ]
          },
          "metadata": {},
          "execution_count": 19
        }
      ]
    },
    {
      "cell_type": "code",
      "metadata": {
        "colab": {
          "base_uri": "https://localhost:8080/",
          "height": 297
        },
        "id": "3Pxz6wsW6eOU",
        "outputId": "14a2c5a7-e26e-4ca1-9cf0-eb0b414f7066"
      },
      "source": [
        "# Showing the descriptive statistics for the numerical measures in the sample\n",
        "#\n",
        "ecar1_strat.describe()"
      ],
      "execution_count": 20,
      "outputs": [
        {
          "output_type": "execute_result",
          "data": {
            "text/html": [
              "<div>\n",
              "<style scoped>\n",
              "    .dataframe tbody tr th:only-of-type {\n",
              "        vertical-align: middle;\n",
              "    }\n",
              "\n",
              "    .dataframe tbody tr th {\n",
              "        vertical-align: top;\n",
              "    }\n",
              "\n",
              "    .dataframe thead th {\n",
              "        text-align: right;\n",
              "    }\n",
              "</style>\n",
              "<table border=\"1\" class=\"dataframe\">\n",
              "  <thead>\n",
              "    <tr style=\"text-align: right;\">\n",
              "      <th></th>\n",
              "      <th>postal_code</th>\n",
              "      <th>dayofweek</th>\n",
              "      <th>bluecars_taken_sum</th>\n",
              "      <th>bluecars_returned_sum</th>\n",
              "    </tr>\n",
              "  </thead>\n",
              "  <tbody>\n",
              "    <tr>\n",
              "      <th>count</th>\n",
              "      <td>489.000000</td>\n",
              "      <td>489.000000</td>\n",
              "      <td>489.000000</td>\n",
              "      <td>489.000000</td>\n",
              "    </tr>\n",
              "    <tr>\n",
              "      <th>mean</th>\n",
              "      <td>93027.443763</td>\n",
              "      <td>2.965235</td>\n",
              "      <td>48.883436</td>\n",
              "      <td>48.838446</td>\n",
              "    </tr>\n",
              "    <tr>\n",
              "      <th>std</th>\n",
              "      <td>953.200503</td>\n",
              "      <td>2.068702</td>\n",
              "      <td>50.731299</td>\n",
              "      <td>51.022219</td>\n",
              "    </tr>\n",
              "    <tr>\n",
              "      <th>min</th>\n",
              "      <td>91330.000000</td>\n",
              "      <td>0.000000</td>\n",
              "      <td>0.000000</td>\n",
              "      <td>0.000000</td>\n",
              "    </tr>\n",
              "    <tr>\n",
              "      <th>25%</th>\n",
              "      <td>92260.000000</td>\n",
              "      <td>1.000000</td>\n",
              "      <td>15.000000</td>\n",
              "      <td>15.000000</td>\n",
              "    </tr>\n",
              "    <tr>\n",
              "      <th>50%</th>\n",
              "      <td>92600.000000</td>\n",
              "      <td>3.000000</td>\n",
              "      <td>33.000000</td>\n",
              "      <td>31.000000</td>\n",
              "    </tr>\n",
              "    <tr>\n",
              "      <th>75%</th>\n",
              "      <td>93800.000000</td>\n",
              "      <td>5.000000</td>\n",
              "      <td>68.000000</td>\n",
              "      <td>66.000000</td>\n",
              "    </tr>\n",
              "    <tr>\n",
              "      <th>max</th>\n",
              "      <td>95880.000000</td>\n",
              "      <td>6.000000</td>\n",
              "      <td>293.000000</td>\n",
              "      <td>295.000000</td>\n",
              "    </tr>\n",
              "  </tbody>\n",
              "</table>\n",
              "</div>"
            ],
            "text/plain": [
              "        postal_code   dayofweek  bluecars_taken_sum  bluecars_returned_sum\n",
              "count    489.000000  489.000000          489.000000             489.000000\n",
              "mean   93027.443763    2.965235           48.883436              48.838446\n",
              "std      953.200503    2.068702           50.731299              51.022219\n",
              "min    91330.000000    0.000000            0.000000               0.000000\n",
              "25%    92260.000000    1.000000           15.000000              15.000000\n",
              "50%    92600.000000    3.000000           33.000000              31.000000\n",
              "75%    93800.000000    5.000000           68.000000              66.000000\n",
              "max    95880.000000    6.000000          293.000000             295.000000"
            ]
          },
          "metadata": {},
          "execution_count": 20
        }
      ]
    },
    {
      "cell_type": "code",
      "metadata": {
        "colab": {
          "base_uri": "https://localhost:8080/",
          "height": 500
        },
        "id": "1XxmYimO1d_M",
        "outputId": "54be7414-b5ee-4874-b832-1f6545205414"
      },
      "source": [
        "print(ecar1_strat.postal_code.value_counts())\n",
        "ecar1_strat.postal_code.value_counts().index\n",
        "sns.countplot(x= 'postal_code', data=ecar1_strat, order=ecar1_strat.postal_code.value_counts().index,\n",
        "palette='bright',lw=3)\n",
        "plt.title(\"Frequency of postal_code\" )\n",
        "plt.show()"
      ],
      "execution_count": 21,
      "outputs": [
        {
          "output_type": "stream",
          "name": "stdout",
          "text": [
            "92160    13\n",
            "94700    13\n",
            "92340    13\n",
            "92260    12\n",
            "92410    10\n",
            "         ..\n",
            "92150     2\n",
            "93400     2\n",
            "95880     2\n",
            "93600     2\n",
            "94450     1\n",
            "Name: postal_code, Length: 78, dtype: int64\n"
          ]
        },
        {
          "output_type": "display_data",
          "data": {
            "image/png": "[encoded data removed]",
            "text/plain": [
              "<Figure size 432x288 with 1 Axes>"
            ]
          },
          "metadata": {
            "needs_background": "light"
          }
        }
      ]
    },
    {
      "cell_type": "code",
      "metadata": {
        "colab": {
          "base_uri": "https://localhost:8080/",
          "height": 347
        },
        "id": "zSeiPWDJ2Bg8",
        "outputId": "4d96989c-c1b6-4044-ed43-133c24d7b613"
      },
      "source": [
        "print(ecar1_strat.day_type.value_counts())\n",
        "ecar1_strat.day_type.value_counts().index\n",
        "sns.countplot(x= 'day_type', data=ecar1_strat, order=ecar1_strat.day_type.value_counts().index,\n",
        "palette='bright',ec='black',hatch='/',lw=3)\n",
        "plt.title(\"Frequency of day_type\" )\n",
        "plt.show()"
      ],
      "execution_count": 22,
      "outputs": [
        {
          "output_type": "stream",
          "name": "stdout",
          "text": [
            "weekday    341\n",
            "weekend    148\n",
            "Name: day_type, dtype: int64\n"
          ]
        },
        {
          "output_type": "display_data",
          "data": {
            "image/png": "[encoded data removed]",
            "text/plain": [
              "<Figure size 432x288 with 1 Axes>"
            ]
          },
          "metadata": {
            "needs_background": "light"
          }
        }
      ]
    },
    {
      "cell_type": "code",
      "metadata": {
        "colab": {
          "base_uri": "https://localhost:8080/",
          "height": 500
        },
        "id": "nW2ZUWaH2eF0",
        "outputId": "ac5f5b69-648f-4a17-e0d4-6f614e9856bf"
      },
      "source": [
        "print(ecar1_strat.bluecars_taken_sum.value_counts())\n",
        "ecar1_strat.bluecars_taken_sum.value_counts().index\n",
        "sns.countplot(x= 'bluecars_taken_sum', data=ecar1_strat, order=ecar1_strat.bluecars_taken_sum.value_counts().index,\n",
        "palette='bright')\n",
        "plt.title(\"Frequency of bluecars_taken_sum\" )\n",
        "plt.show()"
      ],
      "execution_count": 23,
      "outputs": [
        {
          "output_type": "stream",
          "name": "stdout",
          "text": [
            "11     19\n",
            "17     15\n",
            "21     12\n",
            "19     11\n",
            "10     11\n",
            "       ..\n",
            "115     1\n",
            "69      1\n",
            "119     1\n",
            "123     1\n",
            "293     1\n",
            "Name: bluecars_taken_sum, Length: 143, dtype: int64\n"
          ]
        },
        {
          "output_type": "display_data",
          "data": {
            "image/png": "[encoded data removed]",
            "text/plain": [
              "<Figure size 432x288 with 1 Axes>"
            ]
          },
          "metadata": {
            "needs_background": "light"
          }
        }
      ]
    },
    {
      "cell_type": "code",
      "metadata": {
        "colab": {
          "base_uri": "https://localhost:8080/",
          "height": 431
        },
        "id": "JsHfGqmD4YvH",
        "outputId": "4fc67314-ef97-457a-c507-7d95b80acfe8"
      },
      "source": [
        "print(ecar1_strat.dayofweek.value_counts())\n",
        "sns.countplot(x= 'dayofweek', data=ecar1_strat,palette='rocket',ec='black',lw=3)\n",
        "plt.title(\"Frequency of dayofweek\" )\n",
        "plt.show()"
      ],
      "execution_count": 24,
      "outputs": [
        {
          "output_type": "stream",
          "name": "stdout",
          "text": [
            "1    82\n",
            "6    76\n",
            "0    74\n",
            "5    72\n",
            "2    63\n",
            "3    62\n",
            "4    60\n",
            "Name: dayofweek, dtype: int64\n"
          ]
        },
        {
          "output_type": "display_data",
          "data": {
            "image/png": "[encoded data removed]",
            "text/plain": [
              "<Figure size 432x288 with 1 Axes>"
            ]
          },
          "metadata": {
            "needs_background": "light"
          }
        }
      ]
    },
    {
      "cell_type": "markdown",
      "metadata": {
        "id": "PNSIhv9T7JQ3"
      },
      "source": [
        "###Bivariate analysis"
      ]
    },
    {
      "cell_type": "code",
      "metadata": {
        "colab": {
          "base_uri": "https://localhost:8080/",
          "height": 726
        },
        "id": "moOYQhNX7F2A",
        "outputId": "b5c5cf8d-9846-4d6a-e3d0-4a09fcacf7d9"
      },
      "source": [
        "# Ploting the bivariate summaries and recording our observations\n",
        "sns.pairplot(ecar1_strat)\n",
        "plt.show()"
      ],
      "execution_count": 25,
      "outputs": [
        {
          "output_type": "display_data",
          "data": {
            "image/png": "[encoded data removed]",
            "text/plain": [
              "<Figure size 720x720 with 20 Axes>"
            ]
          },
          "metadata": {
            "needs_background": "light"
          }
        }
      ]
    },
    {
      "cell_type": "code",
      "metadata": {
        "colab": {
          "base_uri": "https://localhost:8080/",
          "height": 376
        },
        "id": "4Xg5q99DA4Wx",
        "outputId": "6e38c971-c1da-46a6-e151-65dd446c5c83"
      },
      "source": [
        "sns.heatmap(ecar1_strat.corr(),annot=True)\n",
        "plt.show()"
      ],
      "execution_count": 26,
      "outputs": [
        {
          "output_type": "display_data",
          "data": {
            "image/png": "[encoded data removed]",
            "text/plain": [
              "<Figure size 432x288 with 2 Axes>"
            ]
          },
          "metadata": {
            "needs_background": "light"
          }
        }
      ]
    },
    {
      "cell_type": "code",
      "metadata": {
        "colab": {
          "base_uri": "https://localhost:8080/"
        },
        "id": "COOCGr2l8-Ij",
        "outputId": "d4e9cd21-60ac-43ba-8146-33145a5917c5"
      },
      "source": [
        "#Calculating Correlation coefficient of the numerical measures\n",
        "\n",
        "coeff = ecar1_strat[\"bluecars_taken_sum\"].corr(ecar1_strat[\"bluecars_returned_sum\"]) \n",
        "print(coeff)"
      ],
      "execution_count": 27,
      "outputs": [
        {
          "output_type": "stream",
          "name": "stdout",
          "text": [
            "0.9936303288760598\n"
          ]
        }
      ]
    },
    {
      "cell_type": "markdown",
      "metadata": {
        "id": "FyYgGDHABTid"
      },
      "source": [
        "## v. Hypothesis Testing"
      ]
    },
    {
      "cell_type": "markdown",
      "metadata": {
        "id": "x-MfBGrIlMEm"
      },
      "source": [
        "### Define the null and alternative hypothesis\n",
        "\n",
        "$H_{0}: \\mu_{weekday} - \\mu_{weekend} = 0$\n",
        "\n",
        "$H_{A}: \\mu_{weekday} - \\mu_{weekend} \\neq 0$"
      ]
    },
    {
      "cell_type": "code",
      "metadata": {
        "colab": {
          "base_uri": "https://localhost:8080/",
          "height": 297
        },
        "id": "FiHlCaBQBTFi",
        "outputId": "2d819cdb-602d-4d55-b94c-898b0ad1875d"
      },
      "source": [
        "weekday_bluein = ecar1_strat.loc[(ecar1_strat.day_type == \"weekday\")] #weekday\n",
        "weekday_bluein.describe()\n"
      ],
      "execution_count": 35,
      "outputs": [
        {
          "output_type": "execute_result",
          "data": {
            "text/html": [
              "<div>\n",
              "<style scoped>\n",
              "    .dataframe tbody tr th:only-of-type {\n",
              "        vertical-align: middle;\n",
              "    }\n",
              "\n",
              "    .dataframe tbody tr th {\n",
              "        vertical-align: top;\n",
              "    }\n",
              "\n",
              "    .dataframe thead th {\n",
              "        text-align: right;\n",
              "    }\n",
              "</style>\n",
              "<table border=\"1\" class=\"dataframe\">\n",
              "  <thead>\n",
              "    <tr style=\"text-align: right;\">\n",
              "      <th></th>\n",
              "      <th>postal_code</th>\n",
              "      <th>dayofweek</th>\n",
              "      <th>bluecars_taken_sum</th>\n",
              "      <th>bluecars_returned_sum</th>\n",
              "    </tr>\n",
              "  </thead>\n",
              "  <tbody>\n",
              "    <tr>\n",
              "      <th>count</th>\n",
              "      <td>341.000000</td>\n",
              "      <td>341.000000</td>\n",
              "      <td>341.000000</td>\n",
              "      <td>341.000000</td>\n",
              "    </tr>\n",
              "    <tr>\n",
              "      <th>mean</th>\n",
              "      <td>93070.205279</td>\n",
              "      <td>1.859238</td>\n",
              "      <td>43.117302</td>\n",
              "      <td>43.246334</td>\n",
              "    </tr>\n",
              "    <tr>\n",
              "      <th>std</th>\n",
              "      <td>940.115897</td>\n",
              "      <td>1.407170</td>\n",
              "      <td>48.392796</td>\n",
              "      <td>48.153899</td>\n",
              "    </tr>\n",
              "    <tr>\n",
              "      <th>min</th>\n",
              "      <td>91330.000000</td>\n",
              "      <td>0.000000</td>\n",
              "      <td>0.000000</td>\n",
              "      <td>0.000000</td>\n",
              "    </tr>\n",
              "    <tr>\n",
              "      <th>25%</th>\n",
              "      <td>92270.000000</td>\n",
              "      <td>1.000000</td>\n",
              "      <td>13.000000</td>\n",
              "      <td>14.000000</td>\n",
              "    </tr>\n",
              "    <tr>\n",
              "      <th>50%</th>\n",
              "      <td>93100.000000</td>\n",
              "      <td>2.000000</td>\n",
              "      <td>26.000000</td>\n",
              "      <td>27.000000</td>\n",
              "    </tr>\n",
              "    <tr>\n",
              "      <th>75%</th>\n",
              "      <td>94000.000000</td>\n",
              "      <td>3.000000</td>\n",
              "      <td>55.000000</td>\n",
              "      <td>54.000000</td>\n",
              "    </tr>\n",
              "    <tr>\n",
              "      <th>max</th>\n",
              "      <td>95880.000000</td>\n",
              "      <td>4.000000</td>\n",
              "      <td>286.000000</td>\n",
              "      <td>288.000000</td>\n",
              "    </tr>\n",
              "  </tbody>\n",
              "</table>\n",
              "</div>"
            ],
            "text/plain": [
              "        postal_code   dayofweek  bluecars_taken_sum  bluecars_returned_sum\n",
              "count    341.000000  341.000000          341.000000             341.000000\n",
              "mean   93070.205279    1.859238           43.117302              43.246334\n",
              "std      940.115897    1.407170           48.392796              48.153899\n",
              "min    91330.000000    0.000000            0.000000               0.000000\n",
              "25%    92270.000000    1.000000           13.000000              14.000000\n",
              "50%    93100.000000    2.000000           26.000000              27.000000\n",
              "75%    94000.000000    3.000000           55.000000              54.000000\n",
              "max    95880.000000    4.000000          286.000000             288.000000"
            ]
          },
          "metadata": {},
          "execution_count": 35
        }
      ]
    },
    {
      "cell_type": "code",
      "metadata": {
        "colab": {
          "base_uri": "https://localhost:8080/",
          "height": 297
        },
        "id": "f7Z3Waf_mxmq",
        "outputId": "4700777b-3fac-4c94-898e-86a17809967d"
      },
      "source": [
        "weekend_bluein = ecar1_strat.loc[(ecar1_strat.day_type == \"weekend\")] #weekend\n",
        "weekend_bluein.describe()"
      ],
      "execution_count": 36,
      "outputs": [
        {
          "output_type": "execute_result",
          "data": {
            "text/html": [
              "<div>\n",
              "<style scoped>\n",
              "    .dataframe tbody tr th:only-of-type {\n",
              "        vertical-align: middle;\n",
              "    }\n",
              "\n",
              "    .dataframe tbody tr th {\n",
              "        vertical-align: top;\n",
              "    }\n",
              "\n",
              "    .dataframe thead th {\n",
              "        text-align: right;\n",
              "    }\n",
              "</style>\n",
              "<table border=\"1\" class=\"dataframe\">\n",
              "  <thead>\n",
              "    <tr style=\"text-align: right;\">\n",
              "      <th></th>\n",
              "      <th>postal_code</th>\n",
              "      <th>dayofweek</th>\n",
              "      <th>bluecars_taken_sum</th>\n",
              "      <th>bluecars_returned_sum</th>\n",
              "    </tr>\n",
              "  </thead>\n",
              "  <tbody>\n",
              "    <tr>\n",
              "      <th>count</th>\n",
              "      <td>148.000000</td>\n",
              "      <td>148.000000</td>\n",
              "      <td>148.000000</td>\n",
              "      <td>148.000000</td>\n",
              "    </tr>\n",
              "    <tr>\n",
              "      <th>mean</th>\n",
              "      <td>92928.918919</td>\n",
              "      <td>5.513514</td>\n",
              "      <td>62.168919</td>\n",
              "      <td>61.722973</td>\n",
              "    </tr>\n",
              "    <tr>\n",
              "      <th>std</th>\n",
              "      <td>978.803334</td>\n",
              "      <td>0.501515</td>\n",
              "      <td>53.595536</td>\n",
              "      <td>55.129387</td>\n",
              "    </tr>\n",
              "    <tr>\n",
              "      <th>min</th>\n",
              "      <td>91330.000000</td>\n",
              "      <td>5.000000</td>\n",
              "      <td>0.000000</td>\n",
              "      <td>0.000000</td>\n",
              "    </tr>\n",
              "    <tr>\n",
              "      <th>25%</th>\n",
              "      <td>92240.000000</td>\n",
              "      <td>5.000000</td>\n",
              "      <td>24.000000</td>\n",
              "      <td>19.000000</td>\n",
              "    </tr>\n",
              "    <tr>\n",
              "      <th>50%</th>\n",
              "      <td>92400.000000</td>\n",
              "      <td>6.000000</td>\n",
              "      <td>49.500000</td>\n",
              "      <td>49.000000</td>\n",
              "    </tr>\n",
              "    <tr>\n",
              "      <th>75%</th>\n",
              "      <td>93440.000000</td>\n",
              "      <td>6.000000</td>\n",
              "      <td>87.000000</td>\n",
              "      <td>88.250000</td>\n",
              "    </tr>\n",
              "    <tr>\n",
              "      <th>max</th>\n",
              "      <td>95880.000000</td>\n",
              "      <td>6.000000</td>\n",
              "      <td>293.000000</td>\n",
              "      <td>295.000000</td>\n",
              "    </tr>\n",
              "  </tbody>\n",
              "</table>\n",
              "</div>"
            ],
            "text/plain": [
              "        postal_code   dayofweek  bluecars_taken_sum  bluecars_returned_sum\n",
              "count    148.000000  148.000000          148.000000             148.000000\n",
              "mean   92928.918919    5.513514           62.168919              61.722973\n",
              "std      978.803334    0.501515           53.595536              55.129387\n",
              "min    91330.000000    5.000000            0.000000               0.000000\n",
              "25%    92240.000000    5.000000           24.000000              19.000000\n",
              "50%    92400.000000    6.000000           49.500000              49.000000\n",
              "75%    93440.000000    6.000000           87.000000              88.250000\n",
              "max    95880.000000    6.000000          293.000000             295.000000"
            ]
          },
          "metadata": {},
          "execution_count": 36
        }
      ]
    },
    {
      "cell_type": "markdown",
      "metadata": {
        "id": "30BNNMU27htM"
      },
      "source": [
        "### Testing for normality"
      ]
    },
    {
      "cell_type": "code",
      "metadata": {
        "colab": {
          "base_uri": "https://localhost:8080/"
        },
        "id": "5IMutob4pD1C",
        "outputId": "521bb6a9-419e-4054-b104-c28bc97dfe4f"
      },
      "source": [
        "stats.shapiro(weekday_bluein['bluecars_taken_sum'])"
      ],
      "execution_count": 40,
      "outputs": [
        {
          "output_type": "execute_result",
          "data": {
            "text/plain": [
              "(0.7254914045333862, 2.5897393172921193e-23)"
            ]
          },
          "metadata": {},
          "execution_count": 40
        }
      ]
    },
    {
      "cell_type": "code",
      "metadata": {
        "colab": {
          "base_uri": "https://localhost:8080/"
        },
        "id": "UakJecmgpxpg",
        "outputId": "41385f66-697f-47cc-acae-6e0559d09a03"
      },
      "source": [
        "stats.shapiro(weekend_bluein['bluecars_taken_sum'])"
      ],
      "execution_count": 41,
      "outputs": [
        {
          "output_type": "execute_result",
          "data": {
            "text/plain": [
              "(0.8511945605278015, 6.21471554773656e-11)"
            ]
          },
          "metadata": {},
          "execution_count": 41
        }
      ]
    },
    {
      "cell_type": "markdown",
      "metadata": {
        "id": "iXr-5T86PKz5"
      },
      "source": [
        "p value is less than 0.05. \n",
        "\n",
        "We reject the null hypothesis that the data is normally distributed"
      ]
    },
    {
      "cell_type": "markdown",
      "metadata": {
        "id": "gG72X6UzP58c"
      },
      "source": [
        "--------------------"
      ]
    },
    {
      "cell_type": "markdown",
      "metadata": {
        "id": "pwEmqAotP8YW"
      },
      "source": [
        "### Hypothesis test\n",
        "\n",
        "   We use a non-parametric test.\n"
      ]
    },
    {
      "cell_type": "code",
      "metadata": {
        "colab": {
          "base_uri": "https://localhost:8080/"
        },
        "id": "4oeI7Oz8ANle",
        "outputId": "417256c5-5dac-40ae-b160-fb6d5b497045"
      },
      "source": [
        "stats.mannwhitneyu(weekday_bluein['bluecars_taken_sum'],weekend_bluein['bluecars_taken_sum'])"
      ],
      "execution_count": 44,
      "outputs": [
        {
          "output_type": "execute_result",
          "data": {
            "text/plain": [
              "MannwhitneyuResult(statistic=18337.0, pvalue=7.749342998277661e-07)"
            ]
          },
          "metadata": {},
          "execution_count": 44
        }
      ]
    },
    {
      "cell_type": "markdown",
      "metadata": {
        "id": "ZwS8KQrnAe7P"
      },
      "source": [
        "p value < 0.05. We reject the null hypothesis\n",
        "\n",
        "There is a difference in the total number of bluecars taken on weekends and on weekdays"
      ]
    }
  ]
}